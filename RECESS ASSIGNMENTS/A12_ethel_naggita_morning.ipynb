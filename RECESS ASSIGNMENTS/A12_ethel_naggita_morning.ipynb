{
 "cells": [
  {
   "cell_type": "code",
   "execution_count": 2,
   "id": "12e6b1ca",
   "metadata": {},
   "outputs": [
    {
     "name": "stdout",
     "output_type": "stream",
     "text": [
      "<title>xeno-canto :: Sharing wildlife sounds from around the world</title>\n"
     ]
    }
   ],
   "source": [
    "#web scrapping: process of obtaining data from a website. This is done using beautifulsoup\n",
    "from bs4 import BeautifulSoup   #importing beautifulsoup library\n",
    "import requests   #fetching html content\n",
    "url=\"https://xeno-canto.org/\"\n",
    "response=requests.get(url)\n",
    "#getting title of the website\n",
    "soup=BeautifulSoup(response.content,'html.parser')\n",
    "title=soup.find('title')\n",
    "print(title)"
   ]
  },
  {
   "cell_type": "code",
   "execution_count": 3,
   "id": "18e232b0",
   "metadata": {},
   "outputs": [
    {
     "name": "stdout",
     "output_type": "stream",
     "text": [
      "Data saved to CSV file successfully\n"
     ]
    }
   ],
   "source": [
    "#Extracting bird species and saving them in a CSV file using an API from xeno-canto website\n",
    "import csv\n",
    "url=\"https://xeno-canto.org/api/2/recordings?query=sp&field=species\"\n",
    "response=requests.get(url)\n",
    "if response.status_code==200:\n",
    "    data=response.json()\n",
    "    if \"recordings\" in data:\n",
    "        species_list=list({recording[\"sp\"] for recording in data[\"recordings\"]})\n",
    "        #Specifying the file path to the CSV file\n",
    "        csv_file_path=\"species_list.csv\"\n",
    "        #writing the species_list to the CSV file\n",
    "        with open(csv_file_path, \"w\", newline=\"\",encoding=\"utf-8\") as csvfile:\n",
    "            writer=csv.writer(csvfile)\n",
    "            writer.writerow([\"Species\"])  #write header row\n",
    "            writer.writerows([[species] for species in species_list])  #write species names row by row\n",
    "            print(\"Data saved to CSV file successfully\")\n",
    "else:\n",
    "    print(\"Error: Unable to fetch data from the API\")"
   ]
  },
  {
   "cell_type": "code",
   "execution_count": 3,
   "id": "7c43b1d2",
   "metadata": {},
   "outputs": [
    {
     "name": "stdout",
     "output_type": "stream",
     "text": [
      "Total bird songs extracted: 9733\n",
      "[{'id': '676311', 'gen': 'Grallaria', 'sp': 'saturata', 'ssp': '', 'group': 'birds', 'en': 'Equatorial Antpitta', 'rec': 'Galo Real', 'cnt': 'Ecuador', 'loc': 'Papallacta, Quijos, Napo', 'lat': '-0.3766', 'lng': '-78.1603', 'alt': '3400', 'type': '', 'sex': 'male', 'stage': 'adult', 'method': 'field recording', 'url': '//xeno-canto.org/676311', 'file': 'https://xeno-canto.org/676311/download', 'file-name': 'XC676311-Equatorial Antpitta .mp3', 'sono': {'small': '//xeno-canto.org/sounds/uploaded/GHVYOJSPRJ/ffts/XC676311-small.png', 'med': '//xeno-canto.org/sounds/uploaded/GHVYOJSPRJ/ffts/XC676311-med.png', 'large': '//xeno-canto.org/sounds/uploaded/GHVYOJSPRJ/ffts/XC676311-large.png', 'full': '//xeno-canto.org/sounds/uploaded/GHVYOJSPRJ/ffts/XC676311-full.png'}, 'osci': {'small': '//xeno-canto.org/sounds/uploaded/GHVYOJSPRJ/wave/XC676311-small.png', 'med': '//xeno-canto.org/sounds/uploaded/GHVYOJSPRJ/wave/XC676311-med.png', 'large': '//xeno-canto.org/sounds/uploaded/GHVYOJSPRJ/wave/XC676311-large.png'}, 'lic': '//creativecommons.org/licenses/by-nc-sa/4.0/', 'q': 'A', 'length': '0:37', 'time': '13:30', 'date': '2011-03-09', 'uploaded': '2021-09-22', 'also': [], 'rmk': '', 'bird-seen': 'yes', 'animal-seen': 'yes', 'playback-used': 'no', 'temp': '', 'regnr': '', 'auto': 'no', 'dvc': '', 'mic': '', 'smp': '44100'}, {'id': '666766', 'gen': 'Grallaria', 'sp': 'saturata', 'ssp': '', 'group': 'birds', 'en': 'Equatorial Antpitta', 'rec': 'Leonardo Ordóñez-Delgado', 'cnt': 'Ecuador', 'loc': 'Reserva Numbala, Palanda, Zamora Chinchipe', 'lat': '-4.4051', 'lng': '-79.0893', 'alt': '2900', 'type': 'song', 'sex': 'uncertain', 'stage': 'uncertain', 'method': 'field recording', 'url': '//xeno-canto.org/666766', 'file': 'https://xeno-canto.org/666766/download', 'file-name': 'XC666766-080007 Grallaria rufula XC.mp3', 'sono': {'small': '//xeno-canto.org/sounds/uploaded/RJNSQXBIJE/ffts/XC666766-small.png', 'med': '//xeno-canto.org/sounds/uploaded/RJNSQXBIJE/ffts/XC666766-med.png', 'large': '//xeno-canto.org/sounds/uploaded/RJNSQXBIJE/ffts/XC666766-large.png', 'full': '//xeno-canto.org/sounds/uploaded/RJNSQXBIJE/ffts/XC666766-full.png'}, 'osci': {'small': '//xeno-canto.org/sounds/uploaded/RJNSQXBIJE/wave/XC666766-small.png', 'med': '//xeno-canto.org/sounds/uploaded/RJNSQXBIJE/wave/XC666766-med.png', 'large': '//xeno-canto.org/sounds/uploaded/RJNSQXBIJE/wave/XC666766-large.png'}, 'lic': '//creativecommons.org/licenses/by-nc-nd/4.0/', 'q': 'A', 'length': '1:38', 'time': '07:00', 'date': '2021-06-07', 'uploaded': '2021-08-07', 'also': [], 'rmk': '', 'bird-seen': 'no', 'animal-seen': 'no', 'playback-used': 'no', 'temp': '', 'regnr': '', 'auto': 'no', 'dvc': '', 'mic': '', 'smp': '44100'}, {'id': '506969', 'gen': 'Grallaria', 'sp': 'saturata', 'ssp': '', 'group': 'birds', 'en': 'Equatorial Antpitta', 'rec': 'David Monroy Rengifo', 'cnt': 'Colombia', 'loc': 'Road to Nevado del Ruiz, above Manizales, Caldas, C Andes', 'lat': '4.9992', 'lng': '-75.3484', 'alt': '3700', 'type': 'song', 'sex': 'uncertain', 'stage': '', 'method': 'field recording', 'url': '//xeno-canto.org/506969', 'file': 'https://xeno-canto.org/506969/download', 'file-name': 'XC506969-170508461.mp3', 'sono': {'small': '//xeno-canto.org/sounds/uploaded/MAVGCHPXII/ffts/XC506969-small.png', 'med': '//xeno-canto.org/sounds/uploaded/MAVGCHPXII/ffts/XC506969-med.png', 'large': '//xeno-canto.org/sounds/uploaded/MAVGCHPXII/ffts/XC506969-large.png', 'full': '//xeno-canto.org/sounds/uploaded/MAVGCHPXII/ffts/XC506969-full.png'}, 'osci': {'small': '//xeno-canto.org/sounds/uploaded/MAVGCHPXII/wave/XC506969-small.png', 'med': '//xeno-canto.org/sounds/uploaded/MAVGCHPXII/wave/XC506969-med.png', 'large': '//xeno-canto.org/sounds/uploaded/MAVGCHPXII/wave/XC506969-large.png'}, 'lic': '//creativecommons.org/licenses/by-nc-sa/4.0/', 'q': 'A', 'length': '0:11', 'time': '08:30', 'date': '2019-07-27', 'uploaded': '2019-11-15', 'also': [], 'rmk': '', 'bird-seen': 'yes', 'animal-seen': 'yes', 'playback-used': 'no', 'temp': '', 'regnr': '', 'auto': 'no', 'dvc': '', 'mic': '', 'smp': '44100'}, {'id': '436107', 'gen': 'Grallaria', 'sp': 'saturata', 'ssp': '', 'group': 'birds', 'en': 'Equatorial Antpitta', 'rec': 'Yair Guillermo Molina Martínez.', 'cnt': 'Colombia', 'loc': 'La Linea, ruta entre el Corregimiento de Toche - Salento, Cajamarca, Tolima', 'lat': '4.5597', 'lng': '-75.4956', 'alt': '3400', 'type': 'song', 'sex': '', 'stage': '', 'method': 'field recording', 'url': '//xeno-canto.org/436107', 'file': 'https://xeno-canto.org/436107/download', 'file-name': 'XC436107-Grallaria rufula - Cajamarca 16 09 2018 OTRO IND11 50 AM 3.mp3', 'sono': {'small': '//xeno-canto.org/sounds/uploaded/UQUOPFIYYQ/ffts/XC436107-small.png', 'med': '//xeno-canto.org/sounds/uploaded/UQUOPFIYYQ/ffts/XC436107-med.png', 'large': '//xeno-canto.org/sounds/uploaded/UQUOPFIYYQ/ffts/XC436107-large.png', 'full': '//xeno-canto.org/sounds/uploaded/UQUOPFIYYQ/ffts/XC436107-full.png'}, 'osci': {'small': '//xeno-canto.org/sounds/uploaded/UQUOPFIYYQ/wave/XC436107-small.png', 'med': '//xeno-canto.org/sounds/uploaded/UQUOPFIYYQ/wave/XC436107-med.png', 'large': '//xeno-canto.org/sounds/uploaded/UQUOPFIYYQ/wave/XC436107-large.png'}, 'lic': '//creativecommons.org/licenses/by-nc-sa/4.0/', 'q': 'A', 'length': '0:29', 'time': '11:55', 'date': '2018-09-16', 'uploaded': '2018-09-27', 'also': [], 'rmk': 'Individuo diferente al registrado en ML116201201', 'bird-seen': 'no', 'animal-seen': 'no', 'playback-used': 'yes', 'temp': '', 'regnr': '', 'auto': 'no', 'dvc': '', 'mic': '', 'smp': '48000'}, {'id': '386207', 'gen': 'Grallaria', 'sp': 'saturata', 'ssp': '', 'group': 'birds', 'en': 'Equatorial Antpitta', 'rec': 'Jerome Fischer', 'cnt': 'Ecuador', 'loc': 'Provincia de Napo', 'lat': '-0.3574', 'lng': '-78.1499', 'alt': '3400', 'type': 'song', 'sex': '', 'stage': '', 'method': 'field recording', 'url': '//xeno-canto.org/386207', 'file': 'https://xeno-canto.org/386207/download', 'file-name': 'XC386207-Rufous Antpitta, 13.09.mp3', 'sono': {'small': '//xeno-canto.org/sounds/uploaded/JPBSNBUUEF/ffts/XC386207-small.png', 'med': '//xeno-canto.org/sounds/uploaded/JPBSNBUUEF/ffts/XC386207-med.png', 'large': '//xeno-canto.org/sounds/uploaded/JPBSNBUUEF/ffts/XC386207-large.png', 'full': '//xeno-canto.org/sounds/uploaded/JPBSNBUUEF/ffts/XC386207-full.png'}, 'osci': {'small': '//xeno-canto.org/sounds/uploaded/JPBSNBUUEF/wave/XC386207-small.png', 'med': '//xeno-canto.org/sounds/uploaded/JPBSNBUUEF/wave/XC386207-med.png', 'large': '//xeno-canto.org/sounds/uploaded/JPBSNBUUEF/wave/XC386207-large.png'}, 'lic': '//creativecommons.org/licenses/by-nc-sa/4.0/', 'q': 'A', 'length': '0:49', 'time': '10:00', 'date': '2017-09-13', 'uploaded': '2017-09-13', 'also': [], 'rmk': '', 'bird-seen': 'yes', 'animal-seen': 'yes', 'playback-used': 'no', 'temp': '', 'regnr': '', 'auto': 'no', 'dvc': '', 'mic': '', 'smp': '44100'}, {'id': '202061', 'gen': 'Grallaria', 'sp': 'saturata', 'ssp': '', 'group': 'birds', 'en': 'Equatorial Antpitta', 'rec': 'Juan M Aguilar', 'cnt': 'Ecuador', 'loc': 'Azuay', 'lat': '-2.843', 'lng': '-79.1528', 'alt': '3200', 'type': 'song', 'sex': '', 'stage': '', 'method': 'field recording', 'url': '//xeno-canto.org/202061', 'file': 'https://xeno-canto.org/202061/download', 'file-name': 'XC202061-Grufula.mp3', 'sono': {'small': '//xeno-canto.org/sounds/uploaded/DHUCTAEKYP/ffts/XC202061-small.png', 'med': '//xeno-canto.org/sounds/uploaded/DHUCTAEKYP/ffts/XC202061-med.png', 'large': '//xeno-canto.org/sounds/uploaded/DHUCTAEKYP/ffts/XC202061-large.png', 'full': '//xeno-canto.org/sounds/uploaded/DHUCTAEKYP/ffts/XC202061-full.png'}, 'osci': {'small': '//xeno-canto.org/sounds/uploaded/DHUCTAEKYP/wave/XC202061-small.png', 'med': '//xeno-canto.org/sounds/uploaded/DHUCTAEKYP/wave/XC202061-med.png', 'large': '//xeno-canto.org/sounds/uploaded/DHUCTAEKYP/wave/XC202061-large.png'}, 'lic': '//creativecommons.org/licenses/by-nc-sa/4.0/', 'q': 'A', 'length': '0:22', 'time': '08:00', 'date': '2014-11-05', 'uploaded': '2014-11-10', 'also': [], 'rmk': '', 'bird-seen': 'yes', 'animal-seen': 'yes', 'playback-used': 'no', 'temp': '', 'regnr': '', 'auto': 'no', 'dvc': '', 'mic': '', 'smp': '44100'}, {'id': '29517', 'gen': 'Grallaria', 'sp': 'saturata', 'ssp': '', 'group': 'birds', 'en': 'Equatorial Antpitta', 'rec': 'Niels Krabbe', 'cnt': 'Colombia', 'loc': 'Tolima: 10 km NW Roncesvalles', 'lat': '4.0167', 'lng': '-75.6334', 'alt': '3000', 'type': 'call, song, call/alternate song', 'sex': '', 'stage': '', 'method': 'field recording', 'url': '//xeno-canto.org/29517', 'file': 'https://xeno-canto.org/29517/download', 'file-name': 'Grallaria_rufula_2001_03_04_B_86-99_call.mp3', 'sono': {'small': '//xeno-canto.org/sounds/uploaded/XTVEPHMPPJ/ffts/XC29517-small.png', 'med': '//xeno-canto.org/sounds/uploaded/XTVEPHMPPJ/ffts/XC29517-med.png', 'large': '//xeno-canto.org/sounds/uploaded/XTVEPHMPPJ/ffts/XC29517-large.png', 'full': '//xeno-canto.org/sounds/uploaded/XTVEPHMPPJ/ffts/XC29517-full.png'}, 'osci': {'small': '//xeno-canto.org/sounds/uploaded/XTVEPHMPPJ/wave/XC29517-small.png', 'med': '//xeno-canto.org/sounds/uploaded/XTVEPHMPPJ/wave/XC29517-med.png', 'large': '//xeno-canto.org/sounds/uploaded/XTVEPHMPPJ/wave/XC29517-large.png'}, 'lic': '//creativecommons.org/licenses/by-nc-sa/3.0/', 'q': 'A', 'length': '0:36', 'time': 'xx:xx', 'date': '2001-03-04', 'uploaded': '2009-02-04', 'also': [], 'rmk': 'Tape ref. B 86-99', 'bird-seen': 'unknown', 'animal-seen': 'unknown', 'playback-used': 'unknown', 'temp': '', 'regnr': '', 'auto': 'no', 'dvc': '', 'mic': '', 'smp': '44100'}, {'id': '771599', 'gen': 'Grallaria', 'sp': 'saturata', 'ssp': '', 'group': 'birds', 'en': 'Equatorial Antpitta', 'rec': 'David Monroy Rengifo', 'cnt': 'Colombia', 'loc': 'Finca Cortaderal, Santa Rosa de Cabal, Risaralda', 'lat': '4.8597', 'lng': '-75.4886', 'alt': '3100', 'type': 'call', 'sex': 'uncertain', 'stage': '', 'method': 'field recording', 'url': '//xeno-canto.org/771599', 'file': 'https://xeno-canto.org/771599/download', 'file-name': 'XC771599-220702-001---Grallaria-saturata_482761771.mp3', 'sono': {'small': '//xeno-canto.org/sounds/uploaded/MAVGCHPXII/ffts/XC771599-small.png', 'med': '//xeno-canto.org/sounds/uploaded/MAVGCHPXII/ffts/XC771599-med.png', 'large': '//xeno-canto.org/sounds/uploaded/MAVGCHPXII/ffts/XC771599-large.png', 'full': '//xeno-canto.org/sounds/uploaded/MAVGCHPXII/ffts/XC771599-full.png'}, 'osci': {'small': '//xeno-canto.org/sounds/uploaded/MAVGCHPXII/wave/XC771599-small.png', 'med': '//xeno-canto.org/sounds/uploaded/MAVGCHPXII/wave/XC771599-med.png', 'large': '//xeno-canto.org/sounds/uploaded/MAVGCHPXII/wave/XC771599-large.png'}, 'lic': '//creativecommons.org/licenses/by-nc-sa/4.0/', 'q': 'B', 'length': '0:17', 'time': '08:00', 'date': '2022-07-02', 'uploaded': '2022-12-27', 'also': [], 'rmk': '', 'bird-seen': 'no', 'animal-seen': 'no', 'playback-used': 'no', 'temp': '', 'regnr': '', 'auto': 'no', 'dvc': '', 'mic': '', 'smp': '44100'}, {'id': '767031', 'gen': 'Grallaria', 'sp': 'saturata', 'ssp': '', 'group': 'birds', 'en': 'Equatorial Antpitta', 'rec': 'Bram Vogels', 'cnt': 'Ecuador', 'loc': 'Sayausi (near  Culebrillas), Cuenca, Azuay', 'lat': '-2.8442', 'lng': '-79.1437', 'alt': '3200', 'type': 'song', 'sex': '', 'stage': '', 'method': 'field recording', 'url': '//xeno-canto.org/767031', 'file': 'https://xeno-canto.org/767031/download', 'file-name': 'XC767031-Equatorial-antpitta-4.mp3', 'sono': {'small': '//xeno-canto.org/sounds/uploaded/EJIITXAJNY/ffts/XC767031-small.png', 'med': '//xeno-canto.org/sounds/uploaded/EJIITXAJNY/ffts/XC767031-med.png', 'large': '//xeno-canto.org/sounds/uploaded/EJIITXAJNY/ffts/XC767031-large.png', 'full': '//xeno-canto.org/sounds/uploaded/EJIITXAJNY/ffts/XC767031-full.png'}, 'osci': {'small': '//xeno-canto.org/sounds/uploaded/EJIITXAJNY/wave/XC767031-small.png', 'med': '//xeno-canto.org/sounds/uploaded/EJIITXAJNY/wave/XC767031-med.png', 'large': '//xeno-canto.org/sounds/uploaded/EJIITXAJNY/wave/XC767031-large.png'}, 'lic': '//creativecommons.org/licenses/by-nc-sa/4.0/', 'q': 'B', 'length': '0:24', 'time': '10:00', 'date': '2022-11-11', 'uploaded': '2022-12-09', 'also': [], 'rmk': '', 'bird-seen': 'yes', 'animal-seen': 'yes', 'playback-used': 'no', 'temp': '', 'regnr': '', 'auto': 'no', 'dvc': '', 'mic': '', 'smp': '44100'}, {'id': '767027', 'gen': 'Grallaria', 'sp': 'saturata', 'ssp': '', 'group': 'birds', 'en': 'Equatorial Antpitta', 'rec': 'Bram Vogels', 'cnt': 'Ecuador', 'loc': 'Sayausi (near  Culebrillas), Cuenca, Azuay', 'lat': '-2.8442', 'lng': '-79.1437', 'alt': '3200', 'type': 'song', 'sex': '', 'stage': '', 'method': 'field recording', 'url': '//xeno-canto.org/767027', 'file': 'https://xeno-canto.org/767027/download', 'file-name': 'XC767027-Equatorial-antpitta-4.mp3', 'sono': {'small': '//xeno-canto.org/sounds/uploaded/EJIITXAJNY/ffts/XC767027-small.png', 'med': '//xeno-canto.org/sounds/uploaded/EJIITXAJNY/ffts/XC767027-med.png', 'large': '//xeno-canto.org/sounds/uploaded/EJIITXAJNY/ffts/XC767027-large.png', 'full': '//xeno-canto.org/sounds/uploaded/EJIITXAJNY/ffts/XC767027-full.png'}, 'osci': {'small': '//xeno-canto.org/sounds/uploaded/EJIITXAJNY/wave/XC767027-small.png', 'med': '//xeno-canto.org/sounds/uploaded/EJIITXAJNY/wave/XC767027-med.png', 'large': '//xeno-canto.org/sounds/uploaded/EJIITXAJNY/wave/XC767027-large.png'}, 'lic': '//creativecommons.org/licenses/by-nc-sa/4.0/', 'q': 'B', 'length': '0:24', 'time': '10:00', 'date': '2022-11-11', 'uploaded': '2022-12-09', 'also': [], 'rmk': '', 'bird-seen': 'yes', 'animal-seen': 'yes', 'playback-used': 'no', 'temp': '', 'regnr': '', 'auto': 'no', 'dvc': '', 'mic': '', 'smp': '44100'}]\n"
     ]
    }
   ],
   "source": [
    "#Extracting \n",
    "import csv\n",
    "import requests \n",
    "def get_all_songbirds():\n",
    "    api_url=\"https://xeno-canto.org/api/2/recordings\"\n",
    "    songbird_recordings=[]\n",
    "    page_number=1\n",
    "    while True:\n",
    "        params={\n",
    "            \"query\":\"q\",\n",
    "            \"page\":page_number,\n",
    "        }\n",
    "        response=requests.get(api_url, params=params)\n",
    "        if response.status_code != 200:\n",
    "            break\n",
    "\n",
    "        data = response.json()\n",
    "        if not data[\"recordings\"]:\n",
    "            break\n",
    "\n",
    "        songbird_recordings.extend(data[\"recordings\"])\n",
    "        page_number += 1\n",
    "\n",
    "    return songbird_recordings\n",
    "\n",
    "if __name__ == \"__main__\":\n",
    "    bird_songs_data = get_all_songbirds()\n",
    "    print(f\"Total bird songs extracted: {len(bird_songs_data)}\")\n",
    "\n",
    "    # Print the first few entries to get an idea of the data structure\n",
    "    print(bird_songs_data[:10])\n"
   ]
  },
  {
   "cell_type": "code",
   "execution_count": null,
   "id": "2b72da8d",
   "metadata": {},
   "outputs": [],
   "source": []
  }
 ],
 "metadata": {
  "kernelspec": {
   "display_name": "Python 3 (ipykernel)",
   "language": "python",
   "name": "python3"
  },
  "language_info": {
   "codemirror_mode": {
    "name": "ipython",
    "version": 3
   },
   "file_extension": ".py",
   "mimetype": "text/x-python",
   "name": "python",
   "nbconvert_exporter": "python",
   "pygments_lexer": "ipython3",
   "version": "3.10.9"
  }
 },
 "nbformat": 4,
 "nbformat_minor": 5
}
